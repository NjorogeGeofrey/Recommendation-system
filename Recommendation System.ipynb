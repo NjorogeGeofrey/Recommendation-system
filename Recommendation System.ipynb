{
 "cells": [
  {
   "cell_type": "markdown",
   "id": "b22b0f25",
   "metadata": {},
   "source": [
    "# Building recommendation System\n",
    "   ## User based Collaboration filtering\n",
    "   - ### Eucledian Distance\n",
    "   - ### Pearson Correlation "
   ]
  },
  {
   "cell_type": "code",
   "execution_count": 24,
   "id": "692f7613",
   "metadata": {},
   "outputs": [],
   "source": [
    "import pandas as pd\n",
    "import matplotlib.pyplot as plt\n",
    "import seaborn as sns\n",
    "import math\n",
    "\n",
    "#Creating the simple movie data\n",
    "\n",
    "movie_user_preferences = {\n",
    "'Jill': {'Avenger: Age of Ultron': 7.0,\n",
    " 'Django Unchained': 6.5,\n",
    " 'Gone Girl': 9.0,\n",
    " 'Kill the Messenger': 8.0},\n",
    "    \n",
    "'Julia': {'Avenger: Age of Ultron': 10.0,\n",
    " 'Django Unchained': 6.0,\n",
    " 'Gone Girl': 6.5,\n",
    " 'Kill the Messenger': 6.0,\n",
    " 'Zoolander': 6.5},\n",
    "    \n",
    "'Max': {'Avenger: Age of Ultron': 7.0,\n",
    " 'Django Unchained': 7.0,\n",
    " 'Gone Girl': 10.0,\n",
    " 'Horrible Bosses 2': 6.0,\n",
    " 'Kill the Messenger': 5.0,\n",
    " 'Zoolander': 10.0},\n",
    "    \n",
    "'Robert': {'Avenger: Age of Ultron': 8.0,\n",
    " 'Django Unchained': 7.0,\n",
    " 'Horrible Bosses 2': 5.0,\n",
    " 'Kill the Messenger': 9.0,\n",
    " 'Zoolander': 9.0},\n",
    "    \n",
    "'Sam': {'Avenger: Age of Ultron': 10.0,\n",
    " 'Django Unchained': 7.5,\n",
    " 'Gone Girl': 6.0,\n",
    " 'Horrible Bosses 2': 3.0,\n",
    " 'Kill the Messenger': 5.5,\n",
    " 'Zoolander': 7.0},\n",
    "    \n",
    "'Toby': {'Avenger: Age of Ultron': 8.5,\n",
    " 'Django Unchained': 9.0,\n",
    " 'Zoolander': 2.0},\n",
    "    \n",
    "'William': {'Avenger: Age of Ultron': 6.0,\n",
    " 'Django Unchained': 8.0,\n",
    " 'Gone Girl': 7.0,\n",
    " 'Horrible Bosses 2': 4.0,\n",
    " 'Kill the Messenger': 6.5,\n",
    " 'Zoolander': 4.0\n",
    "}\n",
    "}"
   ]
  },
  {
   "cell_type": "code",
   "execution_count": 8,
   "id": "0ff769f3",
   "metadata": {},
   "outputs": [
    {
     "name": "stdout",
     "output_type": "stream",
     "text": [
      "Ratings:  7.0\n",
      "Ratings:  2.0\n"
     ]
    }
   ],
   "source": [
    "#Checking what William rated Gone Girl\n",
    "\n",
    "William = movie_user_preferences['William']['Gone Girl']\n",
    "\n",
    "#Checking what Toby rated Zoolander\n",
    "Toby = movie_user_preferences['Toby']['Zoolander']\n",
    "\n",
    "print('Ratings: ', William)\n",
    "print('Ratings: ', Toby)"
   ]
  },
  {
   "cell_type": "markdown",
   "id": "b97e0fcd",
   "metadata": {},
   "source": [
    "\n",
    "## Eucledian Distance"
   ]
  },
  {
   "cell_type": "code",
   "execution_count": 9,
   "id": "03eb46fd",
   "metadata": {},
   "outputs": [],
   "source": [
    "# So here we will create a dataframe that contain the users who have watched Zoolander and Django Unchained\n",
    "\n",
    "data = []\n",
    "\n",
    "for i in movie_user_preferences.keys():\n",
    "    try:\n",
    "        data.append((i,\n",
    "                     movie_user_preferences[i]['Zoolander'],\n",
    "                     movie_user_preferences[i]['Django Unchained']\n",
    "                    ))\n",
    "    except:\n",
    "        pass\n",
    "    \n",
    "    "
   ]
  },
  {
   "cell_type": "code",
   "execution_count": 12,
   "id": "c1a2146b",
   "metadata": {},
   "outputs": [
    {
     "data": {
      "text/html": [
       "<div>\n",
       "<style scoped>\n",
       "    .dataframe tbody tr th:only-of-type {\n",
       "        vertical-align: middle;\n",
       "    }\n",
       "\n",
       "    .dataframe tbody tr th {\n",
       "        vertical-align: top;\n",
       "    }\n",
       "\n",
       "    .dataframe thead th {\n",
       "        text-align: right;\n",
       "    }\n",
       "</style>\n",
       "<table border=\"1\" class=\"dataframe\">\n",
       "  <thead>\n",
       "    <tr style=\"text-align: right;\">\n",
       "      <th></th>\n",
       "      <th>User</th>\n",
       "      <th>Zoolander</th>\n",
       "      <th>Django</th>\n",
       "    </tr>\n",
       "  </thead>\n",
       "  <tbody>\n",
       "    <tr>\n",
       "      <th>0</th>\n",
       "      <td>Julia</td>\n",
       "      <td>6.5</td>\n",
       "      <td>6.0</td>\n",
       "    </tr>\n",
       "    <tr>\n",
       "      <th>1</th>\n",
       "      <td>Max</td>\n",
       "      <td>10.0</td>\n",
       "      <td>7.0</td>\n",
       "    </tr>\n",
       "    <tr>\n",
       "      <th>2</th>\n",
       "      <td>Robert</td>\n",
       "      <td>9.0</td>\n",
       "      <td>7.0</td>\n",
       "    </tr>\n",
       "    <tr>\n",
       "      <th>3</th>\n",
       "      <td>Sam</td>\n",
       "      <td>7.0</td>\n",
       "      <td>7.5</td>\n",
       "    </tr>\n",
       "    <tr>\n",
       "      <th>4</th>\n",
       "      <td>Toby</td>\n",
       "      <td>2.0</td>\n",
       "      <td>9.0</td>\n",
       "    </tr>\n",
       "  </tbody>\n",
       "</table>\n",
       "</div>"
      ],
      "text/plain": [
       "     User  Zoolander  Django\n",
       "0   Julia        6.5     6.0\n",
       "1     Max       10.0     7.0\n",
       "2  Robert        9.0     7.0\n",
       "3     Sam        7.0     7.5\n",
       "4    Toby        2.0     9.0"
      ]
     },
     "execution_count": 12,
     "metadata": {},
     "output_type": "execute_result"
    }
   ],
   "source": [
    "df = pd.DataFrame(data = data, \n",
    "                 columns = ['User', 'Zoolander', 'Django'])\n",
    "df.head()"
   ]
  },
  {
   "cell_type": "code",
   "execution_count": 23,
   "id": "3b6aac1a",
   "metadata": {},
   "outputs": [
    {
     "data": {
      "image/png": "[encoded data removed]",
      "text/plain": [
       "<Figure size 432x432 with 1 Axes>"
      ]
     },
     "metadata": {
      "needs_background": "light"
     },
     "output_type": "display_data"
    }
   ],
   "source": [
    "# We will plot different Users with Django as the y axis and Zoolander as the x axis\n",
    "\n",
    "plt.figure(figsize = (6, 6))\n",
    "plt.scatter(df.Django, df.Zoolander)\n",
    "plt.xlabel('Django')\n",
    "plt.ylabel('Zoolander')\n",
    "for i, txt in enumerate(df.User):\n",
    "    plt.annotate(txt, (df.Django[i], df.Zoolander[i]))\n",
    "plt.show()\n"
   ]
  },
  {
   "cell_type": "code",
   "execution_count": 26,
   "id": "569822b2",
   "metadata": {},
   "outputs": [
    {
     "name": "stdout",
     "output_type": "stream",
     "text": [
      "Distance between Max and Toby:  8.246211251235321\n",
      "Distance between Max and Toby:  1.0\n"
     ]
    }
   ],
   "source": [
    "# We can notice that Max and Toby are far away while Max and Robert are close so we shall calculate the Eucledian distance between them\n",
    "\n",
    "#Eucledian Distance between Max and Toby\n",
    "Max_Toby = math.sqrt(pow(10 - 2, 2) + pow(7 - 9, 2))\n",
    "print('Distance between Max and Toby: ', Max_Toby)\n",
    "\n",
    "#Eucledian Distance between Max and Robert\n",
    "Max_Rob = math.sqrt(pow(10 - 9, 2) + pow(7 - 7, 2))\n",
    "print('Distance between Max and Toby: ', Max_Rob)\n"
   ]
  },
  {
   "cell_type": "markdown",
   "id": "3c1f7e17",
   "metadata": {},
   "source": [
    "We can see that the further the users are away from each other, the higher the Euclidean distance."
   ]
  },
  {
   "cell_type": "code",
   "execution_count": 28,
   "id": "776e8863",
   "metadata": {},
   "outputs": [
    {
     "name": "stdout",
     "output_type": "stream",
     "text": [
      "Similarity Score between Max and Toby:  0.10815240673485554\n",
      "Similarity Score between Max and Rob:  0.5\n"
     ]
    }
   ],
   "source": [
    "#Next we shall get the simillarity distance by dividing the Eucledean distance by 1 and \n",
    "#We'll also add 1 in the denominator to avoid getting ZeroDivisionError.\n",
    "\n",
    "#Similarity score based on the Eucledian distance between Max and Toby\n",
    "Sim_Max_Toby = 1 / (1 + Max_Toby)\n",
    "\n",
    "print(\"Similarity Score between Max and Toby: \", Sim_Max_Toby)\n",
    "\n",
    "#Similarity score based on the Eucledian distance between Max and Robert\n",
    "Sim_Max_Rob = 1 / (1 + Max_Rob)\n",
    "print(\"Similarity Score between Max and Rob: \", Sim_Max_Rob)\n"
   ]
  },
  {
   "cell_type": "code",
   "execution_count": 35,
   "id": "73eab9e1",
   "metadata": {},
   "outputs": [],
   "source": [
    "# Returns a distance-based similarity score for person1 and person2\n",
    "def sim_distance(prefs, person1, person2):\n",
    "    #  Get the list of shared_items\n",
    "    si = {}\n",
    "    for item in prefs[person1]:\n",
    "        if item in prefs[person2]:\n",
    "            si[item] = 1\n",
    "    # if they have no ratings in common, return 0\n",
    "    if len(si) == 0:\n",
    "        return 0\n",
    "    \n",
    "     # Add up the squares of all the differences\n",
    "    sum_of_squares = sum([pow(prefs[person1][item] - \n",
    "                        prefs[person2][item],2)\n",
    "                          \n",
    "    for item in prefs[person1] if item in prefs[person2]])\n",
    "    \n",
    "    return 1/(1+sum_of_squares)"
   ]
  },
  {
   "cell_type": "code",
   "execution_count": 36,
   "id": "c8b94bbf",
   "metadata": {},
   "outputs": [
    {
     "data": {
      "text/plain": [
       "0.03278688524590164"
      ]
     },
     "execution_count": 36,
     "metadata": {},
     "output_type": "execute_result"
    }
   ],
   "source": [
    "# Let's apply the preceding function to calculate the similarity score between Sam and Toby:\n",
    "sim_distance(movie_user_preferences,'Sam','Toby')"
   ]
  },
  {
   "cell_type": "markdown",
   "id": "33af1f3a",
   "metadata": {},
   "source": [
    "## Person Correlation"
   ]
  },
  {
   "cell_type": "code",
   "execution_count": 65,
   "id": "e6b35373",
   "metadata": {},
   "outputs": [],
   "source": [
    "\n",
    "\n",
    "def create_movie_user_df(input_data, user1, user2):\n",
    "    data = []\n",
    "    for movie in input_data[user1].keys():\n",
    "        if movie in input_data[user2].keys():\n",
    "            try:\n",
    "                data.append((movie,\n",
    "                            input_data[user1][movie],\n",
    "                            input_data[user2][movie]))\n",
    "            except:\n",
    "                pass\n",
    "    return pd.DataFrame(data = data, columns = ['movie', user1, user2])"
   ]
  },
  {
   "cell_type": "code",
   "execution_count": 66,
   "id": "462fd9bf",
   "metadata": {},
   "outputs": [
    {
     "data": {
      "text/html": [
       "<div>\n",
       "<style scoped>\n",
       "    .dataframe tbody tr th:only-of-type {\n",
       "        vertical-align: middle;\n",
       "    }\n",
       "\n",
       "    .dataframe tbody tr th {\n",
       "        vertical-align: top;\n",
       "    }\n",
       "\n",
       "    .dataframe thead th {\n",
       "        text-align: right;\n",
       "    }\n",
       "</style>\n",
       "<table border=\"1\" class=\"dataframe\">\n",
       "  <thead>\n",
       "    <tr style=\"text-align: right;\">\n",
       "      <th></th>\n",
       "      <th>movie</th>\n",
       "      <th>Sam</th>\n",
       "      <th>William</th>\n",
       "    </tr>\n",
       "  </thead>\n",
       "  <tbody>\n",
       "    <tr>\n",
       "      <th>0</th>\n",
       "      <td>Avenger: Age of Ultron</td>\n",
       "      <td>10.0</td>\n",
       "      <td>6.0</td>\n",
       "    </tr>\n",
       "    <tr>\n",
       "      <th>1</th>\n",
       "      <td>Django Unchained</td>\n",
       "      <td>7.5</td>\n",
       "      <td>8.0</td>\n",
       "    </tr>\n",
       "    <tr>\n",
       "      <th>2</th>\n",
       "      <td>Gone Girl</td>\n",
       "      <td>6.0</td>\n",
       "      <td>7.0</td>\n",
       "    </tr>\n",
       "    <tr>\n",
       "      <th>3</th>\n",
       "      <td>Horrible Bosses 2</td>\n",
       "      <td>3.0</td>\n",
       "      <td>4.0</td>\n",
       "    </tr>\n",
       "    <tr>\n",
       "      <th>4</th>\n",
       "      <td>Kill the Messenger</td>\n",
       "      <td>5.5</td>\n",
       "      <td>6.5</td>\n",
       "    </tr>\n",
       "  </tbody>\n",
       "</table>\n",
       "</div>"
      ],
      "text/plain": [
       "                    movie   Sam  William\n",
       "0  Avenger: Age of Ultron  10.0      6.0\n",
       "1        Django Unchained   7.5      8.0\n",
       "2               Gone Girl   6.0      7.0\n",
       "3       Horrible Bosses 2   3.0      4.0\n",
       "4      Kill the Messenger   5.5      6.5"
      ]
     },
     "execution_count": 66,
     "metadata": {},
     "output_type": "execute_result"
    }
   ],
   "source": [
    "df = create_movie_user_df(movie_user_preferences, 'Sam', 'William')\n",
    "df.head()"
   ]
  },
  {
   "cell_type": "code",
   "execution_count": 70,
   "id": "fcc499b4",
   "metadata": {},
   "outputs": [
    {
     "data": {
      "image/png": "[encoded data removed]",
      "text/plain": [
       "<Figure size 720x504 with 1 Axes>"
      ]
     },
     "metadata": {
      "needs_background": "light"
     },
     "output_type": "display_data"
    }
   ],
   "source": [
    "#Scatter plot \n",
    "\n",
    "plt.figure(figsize = (10, 7))\n",
    "plt.scatter(df.Sam, df.William)\n",
    "plt.xlabel('Sam')\n",
    "plt.ylabel('William')\n",
    "for i, txt in enumerate (df.movie):\n",
    "    plt.annotate(txt, (df.Sam[i], df.William[i]))\n",
    "plt.show()\n"
   ]
  },
  {
   "cell_type": "code",
   "execution_count": 78,
   "id": "629066b7",
   "metadata": {},
   "outputs": [
    {
     "data": {
      "text/plain": [
       "(0.3706740197017842, 0.4694541326841095)"
      ]
     },
     "execution_count": 78,
     "metadata": {},
     "output_type": "execute_result"
    }
   ],
   "source": [
    "from scipy import stats\n",
    "stats.pearsonr(df.Sam, df.William)"
   ]
  },
  {
   "cell_type": "code",
   "execution_count": 85,
   "id": "c1940e99",
   "metadata": {},
   "outputs": [],
   "source": [
    "# Creating a function that takes in the data and calculates the Pearson correlation between the two users\n",
    "def sim_corr(prefs, p1, p2):\n",
    "    si = {}\n",
    "    for item in prefs[p1]:\n",
    "        if item in prefs[p2]:\n",
    "            si[item] = 1\n",
    "    \n",
    "    #Find the number of elements\n",
    "    n = len(si)\n",
    "    \n",
    "    #if there are no ratings in common, return 0\n",
    "    if n==0:\n",
    "        return 0\n",
    "    # Add up all the preferences\n",
    "    sum1 = sum([prefs[p1][it] for it in si])\n",
    "    sum2 = sum([prefs[p2][it] for it in si])\n",
    "    \n",
    "    #sum up the squares\n",
    "    sum1sq = sum([pow(prefs[p1][it], 2) for it in si])\n",
    "    sum2sq = sum([pow(prefs[p2][it], 2) for it in si])\n",
    "    \n",
    "    #sum up the products\n",
    "    psum = sum([prefs[p1][it]*prefs[p2][it] for it in si])\n",
    "    \n",
    "    #Calculate Person score\n",
    "    num = psum - (sum1*sum2/n)\n",
    "    den = math.sqrt((sum1sq - pow(sum1, 2)/n) * (sum2sq - pow(sum2, 2)/n))\n",
    "    if den == 0:\n",
    "        return 0\n",
    "    \n",
    "    r = num/den\n",
    "    \n",
    "    return r"
   ]
  },
  {
   "cell_type": "code",
   "execution_count": 86,
   "id": "db35d1d3",
   "metadata": {},
   "outputs": [
    {
     "data": {
      "text/plain": [
       "0.8828518332602507"
      ]
     },
     "execution_count": 86,
     "metadata": {},
     "output_type": "execute_result"
    }
   ],
   "source": [
    "sim_corr(movie_user_preferences,'Sam','Julia')"
   ]
  },
  {
   "cell_type": "code",
   "execution_count": 87,
   "id": "f4d3980b",
   "metadata": {},
   "outputs": [],
   "source": [
    "\n",
    "def top_matches(prefs, person, n=5, similarity = sim_corr):\n",
    "    scores = [(similarity(prefs, person, other), other)\n",
    "             for other in prefs if other != person]\n",
    "    \n",
    "    #sort the list so the highest scores appear at the top\n",
    "    scores.sort()\n",
    "    scores.reverse()\n",
    "    \n",
    "    return scores[0:n]"
   ]
  },
  {
   "cell_type": "code",
   "execution_count": 91,
   "id": "91e02da9",
   "metadata": {},
   "outputs": [
    {
     "data": {
      "text/plain": [
       "[(0.10526315789473684, 'Jill'),\n",
       " (0.08163265306122448, 'William'),\n",
       " (0.03278688524590164, 'Sam')]"
      ]
     },
     "execution_count": 91,
     "metadata": {},
     "output_type": "execute_result"
    }
   ],
   "source": [
    "# Let's see the top three people who are similar to Toby\n",
    "top_matches(movie_user_preferences,'Toby', \n",
    " n = 3, similarity = sim_distance)"
   ]
  },
  {
   "cell_type": "code",
   "execution_count": 102,
   "id": "4ae44aae",
   "metadata": {},
   "outputs": [],
   "source": [
    "# Gets recommendations for a person by using a weighted average of every other user's rankings\n",
    "def get_recommendations(prefs, person, similarity=sim_corr):\n",
    "    totals = {}\n",
    "    simSums = {}\n",
    "    \n",
    "    for other in prefs:\n",
    "        #Don't compare me to myself\n",
    "        if other == person:\n",
    "            continue\n",
    "        sim = similarity(prefs, person, other)\n",
    "        \n",
    "        #ignore scores of zero or lower\n",
    "        if sim <= 0:\n",
    "            continue\n",
    "        for item in prefs[other]:\n",
    "            \n",
    "            #only score movies I have not seen yet\n",
    "            if item not in prefs[person] or prefs[person][item] == 0:\n",
    "                #similarity * score\n",
    "                totals.setdefault(item, 0)\n",
    "                totals[item] += prefs[other][item]*sim\n",
    "                # Sum of similarities\n",
    "                simSums.setdefault(item, 0)\n",
    "                simSums[item] += sim\n",
    "                \n",
    "    # Create the normalized list\n",
    "    rankings = [(total/simSums[item], item) for item, total in \n",
    "               totals.items()]\n",
    "    \n",
    "    # Return the sorted list\n",
    "    rankings.sort()\n",
    "    rankings.reverse()\n",
    "    return rankings\n",
    "     "
   ]
  },
  {
   "cell_type": "code",
   "execution_count": 113,
   "id": "7804bcfa",
   "metadata": {},
   "outputs": [
    {
     "data": {
      "text/plain": [
       "[(9.333886079952519, 'Zoolander'), (5.333886079952517, 'Horrible Bosses 2')]"
      ]
     },
     "execution_count": 113,
     "metadata": {},
     "output_type": "execute_result"
    }
   ],
   "source": [
    "# Using correlation to make recommendations for Jill\n",
    "get_recommendations(movie_user_preferences, 'Jill')"
   ]
  },
  {
   "cell_type": "code",
   "execution_count": 114,
   "id": "cee7f222",
   "metadata": {},
   "outputs": [
    {
     "data": {
      "text/plain": [
       "[(7.0667160136215905, 'Zoolander'), (4.844239631336406, 'Horrible Bosses 2')]"
      ]
     },
     "execution_count": 114,
     "metadata": {},
     "output_type": "execute_result"
    }
   ],
   "source": [
    "#Using Eucledian similarity scores for Jill\n",
    "get_recommendations(movie_user_preferences, 'Jill', similarity = sim_distance)"
   ]
  },
  {
   "cell_type": "code",
   "execution_count": null,
   "id": "dee3c4c1",
   "metadata": {},
   "outputs": [],
   "source": []
  }
 ],
 "metadata": {
  "kernelspec": {
   "display_name": "Python 3 (ipykernel)",
   "language": "python",
   "name": "python3"
  },
  "language_info": {
   "codemirror_mode": {
    "name": "ipython",
    "version": 3
   },
   "file_extension": ".py",
   "mimetype": "text/x-python",
   "name": "python",
   "nbconvert_exporter": "python",
   "pygments_lexer": "ipython3",
   "version": "3.9.12"
  }
 },
 "nbformat": 4,
 "nbformat_minor": 5
}
